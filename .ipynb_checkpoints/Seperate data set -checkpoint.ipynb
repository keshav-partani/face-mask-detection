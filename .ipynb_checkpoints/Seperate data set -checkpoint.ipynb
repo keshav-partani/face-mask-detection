{
 "cells": [
  {
   "cell_type": "code",
   "execution_count": 1,
   "id": "fbe5f8f4",
   "metadata": {},
   "outputs": [],
   "source": [
    "import pandas as pd\n",
    "import shutil\n",
    "import os"
   ]
  },
  {
   "cell_type": "code",
   "execution_count": 3,
   "id": "8441a8da",
   "metadata": {},
   "outputs": [],
   "source": [
    "# Load the CSV file into a DataFrame\n",
    "df = pd.read_csv(\"train/_classes.csv\")"
   ]
  },
  {
   "cell_type": "code",
   "execution_count": 4,
   "id": "16ab59e5",
   "metadata": {},
   "outputs": [
    {
     "data": {
      "text/html": [
       "<div>\n",
       "<style scoped>\n",
       "    .dataframe tbody tr th:only-of-type {\n",
       "        vertical-align: middle;\n",
       "    }\n",
       "\n",
       "    .dataframe tbody tr th {\n",
       "        vertical-align: top;\n",
       "    }\n",
       "\n",
       "    .dataframe thead th {\n",
       "        text-align: right;\n",
       "    }\n",
       "</style>\n",
       "<table border=\"1\" class=\"dataframe\">\n",
       "  <thead>\n",
       "    <tr style=\"text-align: right;\">\n",
       "      <th></th>\n",
       "      <th>filename</th>\n",
       "      <th>with_mask</th>\n",
       "      <th>without_mask</th>\n",
       "    </tr>\n",
       "  </thead>\n",
       "  <tbody>\n",
       "    <tr>\n",
       "      <th>0</th>\n",
       "      <td>26-with-mask_jpg.rf.fb2a4fd14461ba4e7d981f51d9...</td>\n",
       "      <td>1</td>\n",
       "      <td>0</td>\n",
       "    </tr>\n",
       "    <tr>\n",
       "      <th>1</th>\n",
       "      <td>66_jpg.rf.fb48333563aba0cd06afba343f625d98.jpg</td>\n",
       "      <td>0</td>\n",
       "      <td>1</td>\n",
       "    </tr>\n",
       "    <tr>\n",
       "      <th>2</th>\n",
       "      <td>153-with-mask_jpg.rf.fb584ce29ce6d9a3123a04d80...</td>\n",
       "      <td>1</td>\n",
       "      <td>0</td>\n",
       "    </tr>\n",
       "    <tr>\n",
       "      <th>3</th>\n",
       "      <td>29-with-mask_jpg.rf.fb9ecac8d3dc335a43b79a9438...</td>\n",
       "      <td>1</td>\n",
       "      <td>0</td>\n",
       "    </tr>\n",
       "    <tr>\n",
       "      <th>4</th>\n",
       "      <td>augmented_image_315_jpg.rf.fba9c25c6675c5a039f...</td>\n",
       "      <td>1</td>\n",
       "      <td>0</td>\n",
       "    </tr>\n",
       "    <tr>\n",
       "      <th>...</th>\n",
       "      <td>...</td>\n",
       "      <td>...</td>\n",
       "      <td>...</td>\n",
       "    </tr>\n",
       "    <tr>\n",
       "      <th>1274</th>\n",
       "      <td>417_jpg.rf.64bed386d653f324066a9377a9dbbff8.jpg</td>\n",
       "      <td>0</td>\n",
       "      <td>1</td>\n",
       "    </tr>\n",
       "    <tr>\n",
       "      <th>1275</th>\n",
       "      <td>augmented_image_117_jpg.rf.6433692ef34560a302c...</td>\n",
       "      <td>0</td>\n",
       "      <td>1</td>\n",
       "    </tr>\n",
       "    <tr>\n",
       "      <th>1276</th>\n",
       "      <td>290_jpg.rf.65fd4f514fa0882844857ee5b4ff4880.jpg</td>\n",
       "      <td>0</td>\n",
       "      <td>1</td>\n",
       "    </tr>\n",
       "    <tr>\n",
       "      <th>1277</th>\n",
       "      <td>305-with-mask_jpg.rf.65c190086fbfb468313020747...</td>\n",
       "      <td>1</td>\n",
       "      <td>0</td>\n",
       "    </tr>\n",
       "    <tr>\n",
       "      <th>1278</th>\n",
       "      <td>391_jpg.rf.636b219090112e04ca0653d4b7deac76.jpg</td>\n",
       "      <td>0</td>\n",
       "      <td>1</td>\n",
       "    </tr>\n",
       "  </tbody>\n",
       "</table>\n",
       "<p>1279 rows × 3 columns</p>\n",
       "</div>"
      ],
      "text/plain": [
       "                                               filename   with_mask  \\\n",
       "0     26-with-mask_jpg.rf.fb2a4fd14461ba4e7d981f51d9...           1   \n",
       "1        66_jpg.rf.fb48333563aba0cd06afba343f625d98.jpg           0   \n",
       "2     153-with-mask_jpg.rf.fb584ce29ce6d9a3123a04d80...           1   \n",
       "3     29-with-mask_jpg.rf.fb9ecac8d3dc335a43b79a9438...           1   \n",
       "4     augmented_image_315_jpg.rf.fba9c25c6675c5a039f...           1   \n",
       "...                                                 ...         ...   \n",
       "1274    417_jpg.rf.64bed386d653f324066a9377a9dbbff8.jpg           0   \n",
       "1275  augmented_image_117_jpg.rf.6433692ef34560a302c...           0   \n",
       "1276    290_jpg.rf.65fd4f514fa0882844857ee5b4ff4880.jpg           0   \n",
       "1277  305-with-mask_jpg.rf.65c190086fbfb468313020747...           1   \n",
       "1278    391_jpg.rf.636b219090112e04ca0653d4b7deac76.jpg           0   \n",
       "\n",
       "       without_mask  \n",
       "0                 0  \n",
       "1                 1  \n",
       "2                 0  \n",
       "3                 0  \n",
       "4                 0  \n",
       "...             ...  \n",
       "1274              1  \n",
       "1275              1  \n",
       "1276              1  \n",
       "1277              0  \n",
       "1278              1  \n",
       "\n",
       "[1279 rows x 3 columns]"
      ]
     },
     "execution_count": 4,
     "metadata": {},
     "output_type": "execute_result"
    }
   ],
   "source": [
    "df"
   ]
  },
  {
   "cell_type": "code",
   "execution_count": 5,
   "id": "917775c5",
   "metadata": {},
   "outputs": [],
   "source": [
    "# Create folders for with_mask and without_mask if they don't exist\n",
    "with_mask_folder = \"with_mask\"\n",
    "without_mask_folder = \"without_mask\"\n",
    "os.makedirs(with_mask_folder, exist_ok=True)\n",
    "os.makedirs(without_mask_folder, exist_ok=True)"
   ]
  },
  {
   "cell_type": "code",
   "execution_count": 33,
   "id": "219a14d7",
   "metadata": {},
   "outputs": [
    {
     "name": "stdout",
     "output_type": "stream",
     "text": [
      "Files moved successfully!\n"
     ]
    }
   ],
   "source": [
    "for index, row in df.iterrows():\n",
    "    filename = row[0]\n",
    "    with_mask = row[1]\n",
    "\n",
    "    source_path = os.path.join(\"train\", filename)\n",
    "    \n",
    "    if with_mask == 1:\n",
    "        destination_path = os.path.join(with_mask_folder, filename)\n",
    "    else:\n",
    "        destination_path = os.path.join(without_mask_folder, filename)\n",
    "    \n",
    "    shutil.move(source_path, destination_path)\n",
    "\n",
    "print(\"Files moved successfully!\")\n",
    "    "
   ]
  }
 ],
 "metadata": {
  "kernelspec": {
   "display_name": "Python [conda env:dl_project] *",
   "language": "python",
   "name": "conda-env-dl_project-py"
  },
  "language_info": {
   "codemirror_mode": {
    "name": "ipython",
    "version": 3
   },
   "file_extension": ".py",
   "mimetype": "text/x-python",
   "name": "python",
   "nbconvert_exporter": "python",
   "pygments_lexer": "ipython3",
   "version": "3.7.16"
  }
 },
 "nbformat": 4,
 "nbformat_minor": 5
}
